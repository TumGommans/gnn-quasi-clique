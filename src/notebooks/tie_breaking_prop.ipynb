{
 "cells": [
  {
   "cell_type": "code",
   "execution_count": null,
   "id": "e47c9193",
   "metadata": {},
   "outputs": [
    {
     "name": "stdout",
     "output_type": "stream",
     "text": [
      "Average tie-breaking proportion for DIMACS instances: 0.547\n",
      "Average tie-breaking proportion for real-life instances: 0.544\n"
     ]
    }
   ],
   "source": [
    "import json\n",
    "import numpy as np\n",
    "\n",
    "with open('../../results/dimacs/dimacs.json', 'r') as f:\n",
    "    dimacs = json.load(f)\n",
    "with open('../../results/real-life/real_life.json', 'r') as f:\n",
    "    real = json.load(f)\n",
    "\n",
    "dimacs_ties = []\n",
    "for info in dimacs.values():\n",
    "    for gamma_str, vals in info.items():\n",
    "        if gamma_str in ['num_vertices', 'num_edges', 'density']:\n",
    "            continue\n",
    "        tie = vals.get('tsqc', {}).get('tie_breaking_proportion')\n",
    "        if tie is not None:\n",
    "            dimacs_ties.append(tie)\n",
    "\n",
    "real_ties = []\n",
    "for info in real.values():\n",
    "    for gamma_str, vals in info.items():\n",
    "        if gamma_str in ['num_vertices', 'num_edges', 'density']:\n",
    "            continue\n",
    "        tie = vals.get('tsqc', {}).get('tie_breaking_proportion')\n",
    "        if tie is not None:\n",
    "            real_ties.append(tie)\n",
    "\n",
    "avg_dimacs = np.mean(dimacs_ties)\n",
    "avg_real = np.mean(real_ties)\n",
    "\n",
    "print(f\"Average tie-breaking proportion for DIMACS instances: {avg_dimacs:.3f}\")\n",
    "print(f\"Average tie-breaking proportion for real-life instances: {avg_real:.3f}\")"
   ]
  }
 ],
 "metadata": {
  "kernelspec": {
   "display_name": "Python 3",
   "language": "python",
   "name": "python3"
  },
  "language_info": {
   "codemirror_mode": {
    "name": "ipython",
    "version": 3
   },
   "file_extension": ".py",
   "mimetype": "text/x-python",
   "name": "python",
   "nbconvert_exporter": "python",
   "pygments_lexer": "ipython3",
   "version": "3.9.22"
  }
 },
 "nbformat": 4,
 "nbformat_minor": 5
}
